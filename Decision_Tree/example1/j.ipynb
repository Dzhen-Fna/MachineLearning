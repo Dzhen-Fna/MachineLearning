{
 "cells": [
  {
   "cell_type": "markdown",
   "metadata": {},
   "source": [
    "# 决策树\n",
    "## 1. 导入必要的库\n",
    "\n"
   ]
  },
  {
   "cell_type": "code",
   "execution_count": 1,
   "metadata": {},
   "outputs": [],
   "source": [
    "import pandas as pd\n",
    "from math import log2\n",
    "from pylab import *\n",
    "import matplotlib.pyplot as plt"
   ]
  },
  {
   "cell_type": "markdown",
   "metadata": {},
   "source": [
    "- _pandas_ 用于数据处理\n",
    "- _math.log2_ 用于计算对数\n",
    "- _pylab_ 和 _matplotlib.pyplot_ 用于绘图"
   ]
  },
  {
   "cell_type": "markdown",
   "metadata": {},
   "source": [
    "## 2. 加载数据集\n"
   ]
  },
  {
   "cell_type": "code",
   "execution_count": 2,
   "metadata": {},
   "outputs": [
    {
     "name": "stdout",
     "output_type": "stream",
     "text": [
      "['色泽', '根蒂', '敲声', '纹理', '脐部', '触感', '好瓜'] [['青绿', '蜷缩', '浊响', '清晰', '凹陷', '硬滑', '是'], ['乌黑', '蜷缩', '沉闷', '清晰', '凹陷', '硬滑', '是'], ['乌黑', '蜷缩', '浊响', '清晰', '凹陷', '硬滑', '是'], ['青绿', '稍蜷', '浊响', '清晰', '稍凹', '软粘', '是'], ['乌黑', '稍蜷', '浊响', '稍糊', '稍凹', '软粘', '是'], ['青绿', '硬挺', '清脆', '清晰', '平坦', '软粘', '否'], ['浅白', '稍蜷', '沉闷', '稍糊', '凹陷', '硬滑', '否'], ['乌黑', '稍蜷', '浊响', '清晰', '稍凹', '软粘', '否'], ['浅白', '蜷缩', '浊响', '模糊', '平坦', '硬滑', '否'], ['青绿', '蜷缩', '沉闷', '稍糊', '稍凹', '硬滑', '否'], ['青绿', '蜷缩', '沉闷', '清晰', '凹陷', '硬滑', '是'], ['浅白', '蜷缩', '浊响', '清晰', '凹陷', '硬滑', '是'], ['乌黑', '稍蜷', '浊响', '清晰', '稍凹', '硬滑', '是'], ['乌黑', '稍蜷', '沉闷', '稍糊', '稍凹', '硬滑', '否'], ['浅白', '硬挺', '清脆', '模糊', '平坦', '硬滑', '否'], ['浅白', '蜷缩', '浊响', '模糊', '平坦', '软粘', '否'], ['青绿', '稍蜷', '浊响', '稍糊', '凹陷', '硬滑', '否']]\n"
     ]
    }
   ],
   "source": [
    "def load_dataset():\n",
    "    path = \"xigua.csv\"\n",
    "    data = pd.read_csv(path, header=0, encoding='gbk')\n",
    "    dataset = []\n",
    "    for a in data.values:\n",
    "        dataset.append(list(a))\n",
    "    attribute = list(data.keys())\n",
    "    return dataset, attribute\n",
    "dataset,attribute = load_dataset()\n",
    "print(attribute,dataset)"
   ]
  },
  {
   "cell_type": "markdown",
   "metadata": {},
   "source": [
    "- 从CSV文件中加载数据集，并返回数据列表和每个维度的名称"
   ]
  },
  {
   "cell_type": "markdown",
   "metadata": {},
   "source": [
    "## 3. 计算信息熵\n",
    "- 计算数据集的信息熵\n"
   ]
  },
  {
   "cell_type": "markdown",
   "metadata": {},
   "source": [
    "![根蒂归类集合熵](./mdpic/genti.png) \n",
    "\n",
    "以根蒂特征为例，计算根蒂特征的归类集合熵 \n",
    "$$\n",
    "当根蒂'稍蜷'时: H(X_{稍蜷}) = -(\\frac{3}{7}log_2\\frac{3}{7} + \\frac{4}{7}log_2\\frac{4}{7}) \\approx -0.985 \\\\\n",
    "当根蒂'蜷缩'时: H(X_{蜷缩}) = -(\\frac{5}{8}log_2\\frac{5}{8} + \\frac{3}{8}log_2\\frac{3}{8}) \\approx -0.954 \\\\\n",
    "当根蒂'硬挺'时: H(X_{硬挺}) = -(\\frac{0}{2}log_2\\frac{0}{2} + \\frac{2}{2}log_2\\frac{2}{2}) \\approx 0 \\\\\n",
    "$$\n",
    "\n"
   ]
  },
  {
   "cell_type": "code",
   "execution_count": 3,
   "metadata": {},
   "outputs": [],
   "source": [
    "def calculate_info_entropy(dataset):\n",
    "    n = len(dataset)\n",
    "    attribute_count = {}\n",
    "    for attribute in dataset:\n",
    "        class_attribute = attribute[-1]\n",
    "        if class_attribute not in attribute_count.keys():\n",
    "            attribute_count[class_attribute] = 0\n",
    "        attribute_count[class_attribute] += 1\n",
    "    info_entropy = 0\n",
    "    for class_attribute in attribute_count:\n",
    "        p = float(attribute_count[class_attribute]) / n\n",
    "        info_entropy -= p * log2(p)\n",
    "    return info_entropy\n"
   ]
  },
  {
   "cell_type": "markdown",
   "metadata": {},
   "source": [
    "## 4. 划分数据集\n",
    "- 根据指定维度和值划分数据集"
   ]
  },
  {
   "cell_type": "code",
   "execution_count": 4,
   "metadata": {},
   "outputs": [],
   "source": [
    "def split_dataset(dataset, i, value):\n",
    "    split_set = []\n",
    "    for attribute in dataset:\n",
    "        if attribute[i] == value:\n",
    "            reduce_attribute = attribute[:i]\n",
    "            reduce_attribute.extend(attribute[i+1:])\n",
    "            split_set.append(reduce_attribute)\n",
    "    return split_set\n"
   ]
  },
  {
   "cell_type": "markdown",
   "metadata": {},
   "source": [
    "## 5. 计算属性熵\n",
    "- 计算指定维度的属性熵\n",
    "\n",
    "整个系统的熵为：\n",
    "$$\n",
    "H(Y|X_{根蒂}) = \\frac{7}{17}H(X_{稍蜷}) + \\frac{8}{17}H(X_{蜷缩}) + \\frac{2}{17}H(X_{硬挺})\n",
    "$$"
   ]
  },
  {
   "cell_type": "code",
   "execution_count": 5,
   "metadata": {},
   "outputs": [],
   "source": [
    "def calculate_attribute_entropy(dataset, i, values):\n",
    "    attribute_entropy = 0\n",
    "    for value in values:\n",
    "        sub_dataset = split_dataset(dataset, i, value)\n",
    "        p = len(sub_dataset) / float(len(dataset))\n",
    "        attribute_entropy += p * calculate_info_entropy(sub_dataset)\n",
    "    return attribute_entropy\n"
   ]
  },
  {
   "cell_type": "markdown",
   "metadata": {},
   "source": [
    "## 6. 计算信息增益\n"
   ]
  },
  {
   "cell_type": "markdown",
   "metadata": {},
   "source": [
    "$$\n",
    "g(D, X_{根蒂}) = H(D) - H(D|X_{根蒂}) \\\\\n",
    "\\dots \\\\\n",
    "g(D, X_{触感}) = H(D) - H(D|X_{触感})\n",
    "$$"
   ]
  },
  {
   "cell_type": "code",
   "execution_count": 6,
   "metadata": {},
   "outputs": [],
   "source": [
    "def calculate_info_gain(dataset, info_entropy, i):\n",
    "    attribute = [example[i] for example in dataset]\n",
    "    values = set(attribute)\n",
    "    attribute_entropy = calculate_attribute_entropy(dataset, i, values)\n",
    "    info_gain = info_entropy - attribute_entropy\n",
    "    return info_gain\n"
   ]
  },
  {
   "cell_type": "markdown",
   "metadata": {},
   "source": [
    "## 7. 根据信息增益划分数据集\n",
    "- 根据信息增益选择最佳划分维度"
   ]
  },
  {
   "cell_type": "markdown",
   "metadata": {},
   "source": [
    "$$\n",
    "sort(\\begin{bmatrix}\n",
    "g(D, X_{根蒂}) = H(D) - H(D|X_{根蒂}) \\\\\n",
    "\\dots \\\\\n",
    "g(D, X_{触感}) = H(D) - H(D|X_{触感})\n",
    "\\end{bmatrix}) \n",
    "$$"
   ]
  },
  {
   "cell_type": "code",
   "execution_count": 7,
   "metadata": {},
   "outputs": [],
   "source": [
    "def split_by_info_gain(dataset):\n",
    "    attribute_num = len(dataset[0]) - 1\n",
    "    info_entropy = calculate_info_entropy(dataset)\n",
    "    max_info_gain = 0\n",
    "    best_attribute = -1\n",
    "    for i in range(attribute_num):\n",
    "        info_gain = calculate_info_gain(dataset, info_entropy, i)\n",
    "        if info_gain > max_info_gain:\n",
    "            max_info_gain = info_gain\n",
    "            best_attribute = i\n",
    "    return best_attribute"
   ]
  },
  {
   "cell_type": "markdown",
   "metadata": {},
   "source": [
    "## 8. 创建决策树\n"
   ]
  },
  {
   "cell_type": "code",
   "execution_count": 8,
   "metadata": {},
   "outputs": [
    {
     "name": "stdout",
     "output_type": "stream",
     "text": [
      "{'纹理': {'模糊': '否', '稍糊': {'触感': {'硬滑': '否', '软粘': '是'}}, '清晰': {'根蒂': {'硬挺': '否', '稍蜷': {'色泽': {'乌黑': {'触感': {'硬滑': '是', '软粘': '否'}}, '青绿': '是'}}, '蜷缩': '是'}}}}\n"
     ]
    }
   ],
   "source": [
    "def create_tree(dataset, attribute):\n",
    "    class_list = [example[-1] for example in dataset]\n",
    "    if class_list.count(class_list[0]) == len(class_list):\n",
    "        return class_list[0]\n",
    "    best_attribute = split_by_info_gain(dataset)\n",
    "    best_attribute_name = attribute[best_attribute]\n",
    "    tree = {best_attribute_name:{}}\n",
    "    del(attribute[best_attribute])\n",
    "    attribute_values = [example[best_attribute] for example in dataset]\n",
    "    values = set(attribute_values)\n",
    "    for value in values:\n",
    "        sub_attribute = attribute[:]\n",
    "        tree[best_attribute_name][value] = create_tree(split_dataset(dataset, best_attribute, value), sub_attribute)\n",
    "    return tree\n",
    "tree = create_tree(dataset,attribute)\n",
    "print(tree)\n"
   ]
  },
  {
   "cell_type": "markdown",
   "metadata": {},
   "source": [
    "## 9. 绘制决策树"
   ]
  },
  {
   "cell_type": "markdown",
   "metadata": {},
   "source": [
    "### 9.1 绘制决策树节点"
   ]
  },
  {
   "cell_type": "code",
   "execution_count": 9,
   "metadata": {},
   "outputs": [],
   "source": [
    "attribute_node = dict(boxstyle=\"round\", color='#00B0F0')\n",
    "class_node = dict(boxstyle=\"circle\", color='#00F064')\n",
    "arrow = dict(arrowstyle=\"<-\", color='#000000')"
   ]
  },
  {
   "cell_type": "code",
   "execution_count": 10,
   "metadata": {},
   "outputs": [],
   "source": [
    "\n",
    "def get_num_leaf(tree):\n",
    "    numLeafs = 0\n",
    "    firstStr = list(tree.keys())[0]\n",
    "    secondDict = tree[firstStr]\n",
    "    for key in secondDict.keys():\n",
    "        if type(secondDict[key]).__name__ == 'dict':\n",
    "            numLeafs += get_num_leaf(secondDict[key])\n",
    "        else:\n",
    "            numLeafs += 1\n",
    "    return numLeafs\n",
    "\n",
    "\n",
    "def get_depth_tree(tree):\n",
    "    maxDepth = 0\n",
    "    firstStr = list(tree.keys())[0]\n",
    "    secondDict = tree[firstStr]\n",
    "    for key in secondDict.keys():\n",
    "        if type(secondDict[key]).__name__ == 'dict':\n",
    "            thisDepth = 1 + get_depth_tree(secondDict[key])\n",
    "        else:\n",
    "            thisDepth = 1\n",
    "        if thisDepth > maxDepth:\n",
    "            maxDepth = thisDepth\n",
    "    return maxDepth\n"
   ]
  },
  {
   "cell_type": "code",
   "execution_count": 11,
   "metadata": {},
   "outputs": [],
   "source": [
    "def plot_text(cntrPt, parentPt, txtString):\n",
    "    xMid = (parentPt[0] - cntrPt[0]) / 2.0 + cntrPt[0]\n",
    "    yMid = (parentPt[1] - cntrPt[1]) / 2.0 + cntrPt[1]\n",
    "    createPlot.ax1.text(xMid, yMid, txtString, va=\"center\", ha=\"center\", rotation=30)\n",
    "\n",
    "def plotTree(tree, parentPt, nodeTxt):\n",
    "    numLeafs = get_num_leaf(tree)\n",
    "    depth = get_depth_tree(tree)\n",
    "    firstStr = list(tree.keys())[0]\n",
    "    cntrPt = (plotTree.xOff + (1.0 + float(numLeafs)) / 2.0 / plotTree.totalW, plotTree.yOff)\n",
    "    plot_text(cntrPt, parentPt, nodeTxt)\n",
    "    plotNode(firstStr, cntrPt, parentPt, attribute_node) \n",
    "    secondDict = tree[firstStr]\n",
    "    plotTree.yOff = plotTree.yOff - 1.0 / plotTree.totalD\n",
    "    for key in secondDict.keys():\n",
    "        if type(secondDict[key]).__name__ == 'dict':\n",
    "            plotTree(secondDict[key], cntrPt, str(key))\n",
    "        else:\n",
    "            plotTree.xOff = plotTree.xOff + 1.0 / plotTree.totalW\n",
    "            plotNode(secondDict[key], (plotTree.xOff, plotTree.yOff), cntrPt, class_node)\n",
    "            plot_text((plotTree.xOff, plotTree.yOff), cntrPt, str(key))\n",
    "    plotTree.yOff = plotTree.yOff + 1.0 / plotTree.totalD\n",
    "\n",
    "# 绘制箭头\n",
    "def plotNode(nodeTxt, centerPt, parentPt, nodeType):\n",
    "    createPlot.ax1.annotate(nodeTxt, xy=parentPt, xycoords='axes fraction',\n",
    "                            xytext=centerPt, textcoords='axes fraction',\n",
    "                            va=\"center\", ha=\"center\", bbox=nodeType, arrowprops=arrow)\n",
    "\n",
    "\n",
    "def createPlot(tree):\n",
    "    fig = plt.figure(1, facecolor='white')\n",
    "    fig.clf()\n",
    "    axprops = dict(xticks=[], yticks=[])\n",
    "    createPlot.ax1 = plt.subplot(111, frameon=False, **axprops)\n",
    "    plotTree.totalW = float(get_num_leaf(tree))\n",
    "    plotTree.totalD = float(get_depth_tree(tree))\n",
    "    plotTree.xOff = -0.5 / plotTree.totalW\n",
    "    plotTree.yOff = 1.0\n",
    "    plotTree(tree, (0.5, 1.0), '')\n",
    "    plt.show()\n"
   ]
  },
  {
   "cell_type": "markdown",
   "metadata": {},
   "source": [
    "## 10. 设置默认字体并绘制决策树"
   ]
  },
  {
   "cell_type": "code",
   "execution_count": 12,
   "metadata": {},
   "outputs": [
    {
     "data": {
      "image/png": "[encoded data removed]",
      "text/plain": [
       "<Figure size 640x480 with 1 Axes>"
      ]
     },
     "metadata": {},
     "output_type": "display_data"
    }
   ],
   "source": [
    "mpl.rcParams['font.sans-serif'] = ['SimHei']\n",
    "mpl.rcParams['axes.unicode_minus'] = False\n",
    "\n",
    "createPlot(tree)"
   ]
  }
 ],
 "metadata": {
  "kernelspec": {
   "display_name": "base",
   "language": "python",
   "name": "python3"
  },
  "language_info": {
   "codemirror_mode": {
    "name": "ipython",
    "version": 3
   },
   "file_extension": ".py",
   "mimetype": "text/x-python",
   "name": "python",
   "nbconvert_exporter": "python",
   "pygments_lexer": "ipython3",
   "version": "3.12.4"
  }
 },
 "nbformat": 4,
 "nbformat_minor": 2
}
