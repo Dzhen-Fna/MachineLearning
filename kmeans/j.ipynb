{
 "cells": [
  {
   "cell_type": "markdown",
   "metadata": {},
   "source": [
    "# 1 KNN_self"
   ]
  },
  {
   "cell_type": "markdown",
   "metadata": {},
   "source": [
    "## 1.1 查看图片"
   ]
  },
  {
   "cell_type": "code",
   "execution_count": 1,
   "metadata": {},
   "outputs": [
    {
     "data": {
      "image/png": "[encoded data removed]",
      "text/plain": [
       "<Figure size 640x480 with 1 Axes>"
      ]
     },
     "metadata": {},
     "output_type": "display_data"
    }
   ],
   "source": [
    "import matplotlib.pyplot as plt\n",
    "import numpy as np\n",
    "import pylab\n",
    "import os\n",
    "\n",
    "# 读入mnist数据集\n",
    "m_x = np.loadtxt('mnist_x.txt', delimiter=' ')\n",
    "m_y = np.loadtxt('mnist_y.txt')\n",
    "\n",
    "# 数据集可视化\n",
    "data = np.reshape(np.array(m_x[0], dtype=int), [28, 28])\n",
    "plt.figure()\n",
    "plt.imshow(data, cmap='gray')\n",
    "pylab.show()\n",
    "\n",
    "\n"
   ]
  },
  {
   "cell_type": "code",
   "execution_count": 2,
   "metadata": {},
   "outputs": [
    {
     "name": "stdout",
     "output_type": "stream",
     "text": [
      "K的取值为 1, 预测准确率为 88.5%\n",
      "K的取值为 2, 预测准确率为 88.0%\n",
      "K的取值为 3, 预测准确率为 87.5%\n",
      "K的取值为 4, 预测准确率为 87.5%\n",
      "K的取值为 5, 预测准确率为 88.5%\n",
      "K的取值为 6, 预测准确率为 88.5%\n",
      "K的取值为 7, 预测准确率为 88.0%\n",
      "K的取值为 8, 预测准确率为 87.0%\n",
      "K的取值为 9, 预测准确率为 87.0%\n"
     ]
    }
   ],
   "source": [
    "# 将数据集分为训练集和测试集\n",
    "ratio = 0.8\n",
    "split = int(len(m_x) * ratio)\n",
    "# 打乱数据\n",
    "np.random.seed(0)\n",
    "idx = np.random.permutation(np.arange(len(m_x)))\n",
    "m_x = m_x[idx]\n",
    "m_y = m_y[idx]\n",
    "x_train, x_test = m_x[:split], m_x[split:]\n",
    "y_train, y_test = m_y[:split], m_y[split:]\n",
    "def distance(a, b):\n",
    "    return np.sqrt(np.sum(np.square(a - b)))\n",
    "class KNN:\n",
    "    def __init__(self, k, label_num):\n",
    "        self.k = k\n",
    "        self.label_num = label_num # 类别的数量\n",
    "\n",
    "    def fit(self, x_train, y_train):\n",
    "        # 在类中保存训练数据\n",
    "        self.x_train = x_train\n",
    "        self.y_train = y_train\n",
    "\n",
    "    def get_knn_indices(self, x):\n",
    "        # 获取距离目标样本点最近的K个样本点的标签\n",
    "        # 计算已知样本的距离\n",
    "        dis = list(map(lambda a: distance(a, x), self.x_train))\n",
    "        # 按距离从小到大排序，并得到对应的下标\n",
    "        knn_indices = np.argsort(dis)\n",
    "        # 取最近的K个\n",
    "        knn_indices = knn_indices[:self.k]\n",
    "        return knn_indices\n",
    "\n",
    "    def get_label(self, x):\n",
    "        # 对KNN方法的具体实现，观察K个近邻并使用np.argmax获取其中数量最多的类别\n",
    "        knn_indices = self.get_knn_indices(x)\n",
    "        # 类别计数\n",
    "        label_statistic = np.zeros(shape=[self.label_num])\n",
    "        for index in knn_indices:\n",
    "            label = int(self.y_train[index])\n",
    "            label_statistic[label] += 1\n",
    "        # 返回数量最多的类别\n",
    "        return np.argmax(label_statistic)\n",
    "\n",
    "    def predict(self, x_test):\n",
    "        # 预测样本 test_x 的类别\n",
    "        predicted_test_labels = np.zeros(shape=[len(x_test)], dtype=int)\n",
    "        for i, x in enumerate(x_test):\n",
    "            predicted_test_labels[i] = self.get_label(x)\n",
    "        return predicted_test_labels\n",
    "for k in range(1, 10):\n",
    "    knn = KNN(k, label_num=10)\n",
    "    knn.fit(x_train, y_train)\n",
    "    predicted_labels = knn.predict(x_test)\n",
    "\n",
    "    accuracy = np.mean(predicted_labels == y_test)\n",
    "    print(f'K的取值为 {k}, 预测准确率为 {accuracy * 100:.1f}%')"
   ]
  },
  {
   "cell_type": "markdown",
   "metadata": {},
   "source": [
    "# KNN_sk"
   ]
  },
  {
   "cell_type": "markdown",
   "metadata": {},
   "source": [
    "from sklearn.neighbors import KNeighborsClassifier # sklearn中的KNN分类器\n",
    "from matplotlib.colors import ListedColormap\n",
    "import matplotlib.pyplot as plt\n",
    "import numpy as np\n",
    "import os\n",
    "from tqdm import tqdm\n",
    "\n",
    "# 读入高斯数据集\n",
    "data = np.loadtxt('gauss.csv', delimiter=',')\n",
    "x_train = data[:, :2]\n",
    "y_train = data[:, 2]\n",
    "print('数据集大小：', len(x_train))\n",
    "\n",
    "# 可视化\n",
    "plt.figure()\n",
    "plt.scatter(x_train[y_train == 0, 0], x_train[y_train == 0, 1], c='blue', marker='o')\n",
    "plt.scatter(x_train[y_train == 1, 0], x_train[y_train == 1, 1], c='red', marker='x')\n",
    "plt.xlabel('X axis')\n",
    "plt.ylabel('Y axis')\n",
    "plt.show()\n",
    "\n",
    "# 设置步长\n",
    "step = 0.02\n",
    "# 设置网格边界\n",
    "x_min, x_max = np.min(x_train[:, 0]) - 1, np.max(x_train[:, 0]) + 1\n",
    "y_min, y_max = np.min(x_train[:, 1]) - 1, np.max(x_train[:, 1]) + 1\n",
    "# 构造网格\n",
    "xx, yy = np.meshgrid(np.arange(x_min, x_max, step), np.arange(y_min, y_max, step))\n",
    "grid_data = np.concatenate([xx.reshape(-1, 1), yy.reshape(-1, 1)], axis=1)\n",
    "\n",
    "fig = plt.figure(figsize=(16,4.5))\n",
    "\n",
    "\n",
    "ks = [1,3,10]\n",
    "cmap_light = ListedColormap(['royalblue','lightcoral'])\n",
    "\n",
    "for i, k in enumerate(tqdm(ks)):\n",
    "    # 使用KNN分类器\n",
    "    knn = KNeighborsClassifier(n_neighbors=k)\n",
    "    knn.fit(x_train, y_train)\n",
    "    # 预测网格数据\n",
    "    y_pred = knn.predict(grid_data)\n",
    "    # 绘制网格\n",
    "    ax = fig.add_subplot(1, 3, i+1)\n",
    "    ax.pcolormesh(xx, yy, y_pred.reshape(xx.shape), cmap=cmap_light)\n",
    "    ax.scatter(x_train[y_train == 0, 0], x_train[y_train == 0, 1], c='blue', marker='o')\n",
    "    ax.scatter(x_train[y_train == 1, 0], x_train[y_train == 1, 1], c='red', marker='x')\n",
    "    ax.set_xlabel('X axis')\n",
    "    ax.set_ylabel('Y axis')\n",
    "    ax.set_title(f'K = {k}')\n",
    "plt.show()"
   ]
  }
 ],
 "metadata": {
  "kernelspec": {
   "display_name": "base",
   "language": "python",
   "name": "python3"
  },
  "language_info": {
   "codemirror_mode": {
    "name": "ipython",
    "version": 3
   },
   "file_extension": ".py",
   "mimetype": "text/x-python",
   "name": "python",
   "nbconvert_exporter": "python",
   "pygments_lexer": "ipython3",
   "version": "3.12.4"
  }
 },
 "nbformat": 4,
 "nbformat_minor": 2
}
